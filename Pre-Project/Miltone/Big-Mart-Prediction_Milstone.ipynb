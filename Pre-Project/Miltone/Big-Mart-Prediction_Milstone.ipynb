{
 "cells": [
  {
   "cell_type": "markdown",
   "id": "48e6a4f0-7a31-4a49-a848-cabaf54b64e8",
   "metadata": {},
   "source": [
    "<h1>Big Mart Prediction - Milestone</h1>"
   ]
  },
  {
   "cell_type": "markdown",
   "id": "417b847f-b625-43f9-a619-99a0cff6d745",
   "metadata": {},
   "source": [
    "<strong>Member (Group 5):</strong>\n",
    "  - Hồ Thanh Duy 21110759\n",
    "  - Nguyễn Phước Trường 21110\n",
    "  - Đặng Trung Phương 21110"
   ]
  },
  {
   "cell_type": "markdown",
   "id": "dbce7539-679b-466d-b8dd-36cad56e477f",
   "metadata": {},
   "source": [
    "<h3>1. Introduction</h3>"
   ]
  },
  {
   "cell_type": "markdown",
   "id": "2e0d0c2f-ac59-4392-9a5d-201ac501bc34",
   "metadata": {
    "tags": []
   },
   "source": [
    " <i>The Mart Sales Prediction</i> project aims to develop a machine learning solution to forecast the sales of various products in BigMart stores. By leveraging historical sales data, the project will create a regression ML model to predict the sales of products for the following year in many different outlets. \n",
    "\n",
    "Successful completion of this project will enable the mart to understand the properties of products and stores that make data-driven decisions, optimize operations, and gain a competitive advantage in the retail industry."
   ]
  },
  {
   "cell_type": "markdown",
   "id": "282a0ac7-19dd-445c-b781-80f340d4baec",
   "metadata": {},
   "source": [
    "<h4>1.1. Problem Statement</h4>"
   ]
  },
  {
   "cell_type": "markdown",
   "id": "b0063f4f-1a2f-4c4a-adaf-c017c7e1f2b7",
   "metadata": {},
   "source": [
    "Due to increasing competition many malls and bigmart are trying their best to stay ahead in competition.In order to find out what are the various factors which affect the sales of bigmart and what strategies one needs to employ in order to gain more profit one need to have some model on which they can rely .So a predictive model can be made which could help to gain useful information and increase profit."
   ]
  },
  {
   "cell_type": "markdown",
   "id": "8792779c-b347-4395-893e-17bce9fefec2",
   "metadata": {},
   "source": [
    "<h4>1.2. Overview about Dataset (Input/Ouput)</h4>"
   ]
  },
  {
   "cell_type": "markdown",
   "id": "447c230c-b7af-40fb-944d-ada1aa0521e6",
   "metadata": {},
   "source": [
    "In these different aspects of responding to the Item Outlet Sales features as well, the other features are also used as the predictive variables. Our dataset has in total 8523 products in various regions and cities. \n",
    "\n",
    "The data set is also based on product level and store- level considerations . Where store level includes features such as city, population density, store capacity, location, etc. and product-level speculation involves factors such as product, ad, etc. "
   ]
  },
  {
   "cell_type": "markdown",
   "id": "6c5389e0-9556-4f2a-a965-3177d73b74a4",
   "metadata": {
    "tags": []
   },
   "source": [
    "<b>X, Y variables</b>\n",
    "\n",
    "<i>Variable Y:</i> The set of predicted results\n",
    "\n",
    "<i>Variable X:</i>  Set of properties supporting for predicting Y, where the data set contains 12 features such as:"
   ]
  },
  {
   "cell_type": "markdown",
   "id": "df082498-c402-4ad7-9457-e7d33e58d1f5",
   "metadata": {
    "tags": []
   },
   "source": [
    "| Variables | Descripions |\n",
    "|-------|-------|\n",
    "|   Item_Identifier   |  Unique product ID  |\n",
    "|   Item_Weight   |   Weight of product   |\n",
    "|  Item_Fat_Content  |   Whether the product is low fat or not   |\n",
    "|   Item_Visibility   |   The % of total display area of all products in a store allocated to the particular product  |\n",
    "|  Item_Type  |   The category to which the product belongs   |\n",
    "|  Item_MRP  |   Maximum Retail Price (MRP) of the product   |\n",
    "|   Outlet_Identifier   |   Unique store ID   |\n",
    "|   Outlet_Establishment_Year   |   The year in which store was establiished   |\n",
    "|   Outlet_Size   |   The size of the store in terms of ground area covered   |\n",
    "|   Outlet_Location_Type   |   The type of city in which the store is located   |\n",
    "|   Outlet_Type   |   Whether the outlet is just a grocery store or some sort of supermarket   |\n"
   ]
  },
  {
   "cell_type": "markdown",
   "id": "f7aa73b1-3cb8-4a6c-bf5f-3d2f18a74471",
   "metadata": {
    "tags": []
   },
   "source": [
    "<b>Detail about dataset of project</b>"
   ]
  },
  {
   "cell_type": "code",
   "execution_count": 8,
   "id": "8be5c43b-a6a9-4956-a66b-874770ecb087",
   "metadata": {
    "tags": []
   },
   "outputs": [
    {
     "data": {
      "text/html": [
       "<div>\n",
       "<style scoped>\n",
       "    .dataframe tbody tr th:only-of-type {\n",
       "        vertical-align: middle;\n",
       "    }\n",
       "\n",
       "    .dataframe tbody tr th {\n",
       "        vertical-align: top;\n",
       "    }\n",
       "\n",
       "    .dataframe thead th {\n",
       "        text-align: right;\n",
       "    }\n",
       "</style>\n",
       "<table border=\"1\" class=\"dataframe\">\n",
       "  <thead>\n",
       "    <tr style=\"text-align: right;\">\n",
       "      <th></th>\n",
       "      <th>Item_Identifier</th>\n",
       "      <th>Item_Weight</th>\n",
       "      <th>Item_Fat_Content</th>\n",
       "      <th>Item_Visibility</th>\n",
       "      <th>Item_Type</th>\n",
       "      <th>Item_MRP</th>\n",
       "      <th>Outlet_Identifier</th>\n",
       "      <th>Outlet_Establishment_Year</th>\n",
       "      <th>Outlet_Size</th>\n",
       "      <th>Outlet_Location_Type</th>\n",
       "      <th>Outlet_Type</th>\n",
       "      <th>Item_Outlet_Sales</th>\n",
       "    </tr>\n",
       "  </thead>\n",
       "  <tbody>\n",
       "    <tr>\n",
       "      <th>0</th>\n",
       "      <td>FDA15</td>\n",
       "      <td>9.30</td>\n",
       "      <td>Low Fat</td>\n",
       "      <td>0.016047</td>\n",
       "      <td>Dairy</td>\n",
       "      <td>249.8092</td>\n",
       "      <td>OUT049</td>\n",
       "      <td>1999</td>\n",
       "      <td>Medium</td>\n",
       "      <td>Tier 1</td>\n",
       "      <td>Supermarket Type1</td>\n",
       "      <td>3735.1380</td>\n",
       "    </tr>\n",
       "    <tr>\n",
       "      <th>1</th>\n",
       "      <td>DRC01</td>\n",
       "      <td>5.92</td>\n",
       "      <td>Regular</td>\n",
       "      <td>0.019278</td>\n",
       "      <td>Soft Drinks</td>\n",
       "      <td>48.2692</td>\n",
       "      <td>OUT018</td>\n",
       "      <td>2009</td>\n",
       "      <td>Medium</td>\n",
       "      <td>Tier 3</td>\n",
       "      <td>Supermarket Type2</td>\n",
       "      <td>443.4228</td>\n",
       "    </tr>\n",
       "    <tr>\n",
       "      <th>2</th>\n",
       "      <td>FDN15</td>\n",
       "      <td>17.50</td>\n",
       "      <td>Low Fat</td>\n",
       "      <td>0.016760</td>\n",
       "      <td>Meat</td>\n",
       "      <td>141.6180</td>\n",
       "      <td>OUT049</td>\n",
       "      <td>1999</td>\n",
       "      <td>Medium</td>\n",
       "      <td>Tier 1</td>\n",
       "      <td>Supermarket Type1</td>\n",
       "      <td>2097.2700</td>\n",
       "    </tr>\n",
       "    <tr>\n",
       "      <th>3</th>\n",
       "      <td>FDX07</td>\n",
       "      <td>19.20</td>\n",
       "      <td>Regular</td>\n",
       "      <td>0.000000</td>\n",
       "      <td>Fruits and Vegetables</td>\n",
       "      <td>182.0950</td>\n",
       "      <td>OUT010</td>\n",
       "      <td>1998</td>\n",
       "      <td>NaN</td>\n",
       "      <td>Tier 3</td>\n",
       "      <td>Grocery Store</td>\n",
       "      <td>732.3800</td>\n",
       "    </tr>\n",
       "    <tr>\n",
       "      <th>4</th>\n",
       "      <td>NCD19</td>\n",
       "      <td>8.93</td>\n",
       "      <td>Low Fat</td>\n",
       "      <td>0.000000</td>\n",
       "      <td>Household</td>\n",
       "      <td>53.8614</td>\n",
       "      <td>OUT013</td>\n",
       "      <td>1987</td>\n",
       "      <td>High</td>\n",
       "      <td>Tier 3</td>\n",
       "      <td>Supermarket Type1</td>\n",
       "      <td>994.7052</td>\n",
       "    </tr>\n",
       "  </tbody>\n",
       "</table>\n",
       "</div>"
      ],
      "text/plain": [
       "  Item_Identifier  Item_Weight Item_Fat_Content  Item_Visibility  \\\n",
       "0           FDA15         9.30          Low Fat         0.016047   \n",
       "1           DRC01         5.92          Regular         0.019278   \n",
       "2           FDN15        17.50          Low Fat         0.016760   \n",
       "3           FDX07        19.20          Regular         0.000000   \n",
       "4           NCD19         8.93          Low Fat         0.000000   \n",
       "\n",
       "               Item_Type  Item_MRP Outlet_Identifier  \\\n",
       "0                  Dairy  249.8092            OUT049   \n",
       "1            Soft Drinks   48.2692            OUT018   \n",
       "2                   Meat  141.6180            OUT049   \n",
       "3  Fruits and Vegetables  182.0950            OUT010   \n",
       "4              Household   53.8614            OUT013   \n",
       "\n",
       "   Outlet_Establishment_Year Outlet_Size Outlet_Location_Type  \\\n",
       "0                       1999      Medium               Tier 1   \n",
       "1                       2009      Medium               Tier 3   \n",
       "2                       1999      Medium               Tier 1   \n",
       "3                       1998         NaN               Tier 3   \n",
       "4                       1987        High               Tier 3   \n",
       "\n",
       "         Outlet_Type  Item_Outlet_Sales  \n",
       "0  Supermarket Type1          3735.1380  \n",
       "1  Supermarket Type2           443.4228  \n",
       "2  Supermarket Type1          2097.2700  \n",
       "3      Grocery Store           732.3800  \n",
       "4  Supermarket Type1           994.7052  "
      ]
     },
     "execution_count": 8,
     "metadata": {},
     "output_type": "execute_result"
    }
   ],
   "source": [
    "import pandas as pd\n",
    "\n",
    "df_train = pd.read_csv('./data/train.csv')\n",
    "df_train.head()"
   ]
  },
  {
   "cell_type": "markdown",
   "id": "701cf318-a5d5-457f-8388-cc756f1a3455",
   "metadata": {},
   "source": [
    "Link to this project dataset: https://www.kaggle.com/datasets/shivan118/big-mart-sales-prediction-datasets/data"
   ]
  },
  {
   "cell_type": "markdown",
   "id": "8f6fa910-f09c-4737-8dd8-da9a90a8f522",
   "metadata": {},
   "source": [
    "<h4>1.3. Evaluation Metrics Methods for Problem</h4>"
   ]
  },
  {
   "cell_type": "markdown",
   "id": "61d5357b-1fec-4446-a3ca-e55b7dd982c4",
   "metadata": {},
   "source": [
    "<i>Evaluation Metrics Methods:</i> Using methods to evaluate the performance of the model \n",
    "\n",
    "+ Mean Absolute Error (MAE)\n",
    "\n",
    "+ Mean Squared Error (MSE) \n",
    "\n",
    "+ Root Mean Square Error (RMSE)\n",
    "\n",
    "+ R2 (R Square)"
   ]
  },
  {
   "cell_type": "markdown",
   "id": "0d607778-a349-441a-a9a8-30cb13711c40",
   "metadata": {
    "tags": []
   },
   "source": [
    "<h4>1.4. Process to handle project</h4>"
   ]
  },
  {
   "cell_type": "markdown",
   "id": "f8352d21-e2d1-476a-9619-5702e17a2aa2",
   "metadata": {},
   "source": [
    "Following are the steps which one needs to follow while creating a model"
   ]
  },
  {
   "cell_type": "markdown",
   "id": "5c245aa3-814b-4f36-b620-8f7ababea2a3",
   "metadata": {},
   "source": [
    "![process dataset](./image/process.png)"
   ]
  },
  {
   "cell_type": "markdown",
   "id": "d8423dd3-7a01-4b50-a848-b96519a7e542",
   "metadata": {
    "tags": []
   },
   "source": [
    "<b>Detail each step in process:</b>"
   ]
  },
  {
   "cell_type": "markdown",
   "id": "1313cd78-246e-44fa-8a60-8d84d67ec5d7",
   "metadata": {
    "tags": []
   },
   "source": [
    "<i>1. Raw data:</i>\n",
    "The step of every project is to collect the data.\n",
    "\n",
    "https://www.kaggle.com/datasets/shivan118/big-mart-sales-prediction-datasets/data"
   ]
  },
  {
   "cell_type": "markdown",
   "id": "b351c544-c490-4c8e-a5ab-31becee0fddf",
   "metadata": {
    "tags": []
   },
   "source": [
    "<i>2.Pre-processing: </i>"
   ]
  },
  {
   "cell_type": "markdown",
   "id": "1ed86642-1aef-450a-9dc4-59ce4c463d52",
   "metadata": {},
   "source": [
    "Data pre-processing includes: \n",
    "- Cleaning (with Klib library)\n",
    "\n",
    "- Standarization \n",
    "\n",
    "- Transforming data to prepare for the machine learning process."
   ]
  },
  {
   "cell_type": "markdown",
   "id": "306ae7a6-016e-4077-8682-7e50ae3b954b",
   "metadata": {
    "tags": []
   },
   "source": [
    "<i>3. Training dataset: </i>"
   ]
  },
  {
   "cell_type": "markdown",
   "id": "b2ff9a59-0909-48b7-86cc-fe0a22453220",
   "metadata": {},
   "source": [
    "Create a training data set to \"teach\" the model. This is the data set that the algorithm will learn from."
   ]
  },
  {
   "cell_type": "markdown",
   "id": "911d64c9-0901-48e5-a555-13774be11b74",
   "metadata": {},
   "source": [
    "<i>4. Implement model: </i>"
   ]
  },
  {
   "cell_type": "markdown",
   "id": "45245957-7857-4b78-926b-545c96c635be",
   "metadata": {},
   "source": [
    "Deploy the model using appropriate machine learning algorithms. Includes:\n",
    "\n",
    "- XGBoost Regression\n",
    "\n",
    "- Linear Regression\n",
    "\n",
    "- Random Forest Regression"
   ]
  },
  {
   "cell_type": "markdown",
   "id": "7fb5b97c-e0e1-4e15-8bae-a45b46a67146",
   "metadata": {},
   "source": [
    "<i>5. Evaluate result: </i>"
   ]
  },
  {
   "cell_type": "markdown",
   "id": "5b59c4f0-c8c6-46af-bb8a-20f9ec3c1273",
   "metadata": {},
   "source": [
    "Evaluate the model's results using <i>Evaluation Metrics Methods</i>:\n",
    "\n",
    "+ Mean Absolute Error (MAE)\n",
    "\n",
    "+ Mean Squared Error (MSE) \n",
    "\n",
    "+ Root Mean Square Error (RMSE)\n",
    "\n",
    "+ R2 (R Square)"
   ]
  },
  {
   "cell_type": "markdown",
   "id": "decd7469-02d3-4b09-9cfe-d0f4f6ff886f",
   "metadata": {},
   "source": [
    "<h3>2. Resolving Problem</h3>"
   ]
  },
  {
   "cell_type": "markdown",
   "id": "f9a60b7a-3522-40d5-82cd-272b5f9c077d",
   "metadata": {},
   "source": [
    "<h4>2.1. Linear regression</h4>"
   ]
  },
  {
   "cell_type": "markdown",
   "id": "124d3437-932e-4e99-8c44-a2919258648d",
   "metadata": {},
   "source": [
    "As we know `Regression` can be termed as a parametric technique which means we can predict <i>a continuous or dependent variable</i> on the basis of a provided datasets of independent variables."
   ]
  },
  {
   "cell_type": "markdown",
   "id": "7bdef16a-5c66-4e93-bfaf-28ceb27cea4a",
   "metadata": {
    "tags": []
   },
   "source": [
    "![linear-regression](./image/linear-regression.png)"
   ]
  },
  {
   "cell_type": "markdown",
   "id": "77c2fe49-0502-4651-b2d8-155431cbd5d6",
   "metadata": {},
   "source": [
    "<b>Reason for chosing Algorithm</b>"
   ]
  },
  {
   "cell_type": "markdown",
   "id": "3d605848-09c4-491f-8ae2-0c082899b08b",
   "metadata": {
    "tags": []
   },
   "source": [
    " - Simple, easy to deploy and fast.\n",
    " - Assume a linear relationship between input and output variables.\n",
    " - Sensitive to exceptions."
   ]
  },
  {
   "cell_type": "markdown",
   "id": "fd423f68-7bf4-4f60-bd5a-3a8ee2af6876",
   "metadata": {},
   "source": [
    "<h4>2.2. XGBOOST Regression</h4>"
   ]
  },
  {
   "cell_type": "markdown",
   "id": "c6b2f077-8d39-458d-8816-803b32594bf8",
   "metadata": {},
   "source": [
    "`XGBoost` is an efficient algorithm designed for computer time and memory resources. It uses a sequential process called boosting, which improves prediction accuracy by giving more weight to poorly predicted results. Internally, it uses stepwise, `ridge regression` for feature selection and handling multicollinearity."
   ]
  },
  {
   "cell_type": "markdown",
   "id": "7cebf066-402b-4812-8a0a-85cf538eb943",
   "metadata": {},
   "source": [
    "![XGBoost](./image/XGBoost.png)"
   ]
  },
  {
   "cell_type": "markdown",
   "id": "ed78a94f-de54-4e06-adf7-c4902b6d6ad3",
   "metadata": {},
   "source": [
    "<b>Reason for chosing Algorithm</b>"
   ]
  },
  {
   "cell_type": "markdown",
   "id": "ffad8bbd-666d-4495-952d-f5fa6abb08e4",
   "metadata": {
    "tags": []
   },
   "source": [
    " - Can handle non-linear relationships.\n",
    " - Less susceptible to overfitting than some other algorithms.\n",
    " - Can be computationally expensive."
   ]
  },
  {
   "cell_type": "markdown",
   "id": "e3bd55a3-c0d6-46af-a5db-f3f693f84ab7",
   "metadata": {
    "tags": []
   },
   "source": [
    "<h4>2.3. Random Forest Regression</h4>"
   ]
  },
  {
   "cell_type": "markdown",
   "id": "0f8e35a5-49b8-4278-b0a7-cc5a6513548d",
   "metadata": {},
   "source": [
    "Random Forest is a tree-based bootstrapping algorithm based on that tree that includes a certain number of decision trees to build a powerful predictive model. \n",
    "\n",
    "The final prediction may be the function of all predictions made by each learner. In the event of a regression. The final prediction may be the meaning of all the predictions."
   ]
  },
  {
   "cell_type": "markdown",
   "id": "1a3e9ce0-4767-4108-963b-f90adf6a1029",
   "metadata": {
    "tags": []
   },
   "source": [
    "![random-forest](./image/random-forest.png)"
   ]
  },
  {
   "cell_type": "markdown",
   "id": "9a52fbaf-5ed3-4002-8610-22fe10154588",
   "metadata": {},
   "source": [
    "<b>Reason for chosing Algorithm</b>"
   ]
  },
  {
   "cell_type": "markdown",
   "id": "484403d9-6921-4a80-b442-831cb3a976e3",
   "metadata": {
    "tags": []
   },
   "source": [
    " - Can handle non-linear relationships.\n",
    " - Less susceptible to overfitting than decision trees.\n",
    " - Can be computationally expensive."
   ]
  },
  {
   "cell_type": "markdown",
   "id": "90a38399-aa38-4a2e-b3f2-e98b12614485",
   "metadata": {},
   "source": [
    "<h3>3. Evaluate result and Explanation</h3>"
   ]
  },
  {
   "cell_type": "markdown",
   "id": "320d7d76-5d0d-479e-a879-e5a1e30e97e7",
   "metadata": {},
   "source": [
    "| Algorithm | R2 | RMSE |  MSE  |\n",
    "|-------|-------|-------|-------|\n",
    "|  Linear Regression   |  50.2005  |  1,357,216.845  |  1164.9965  |\n",
    "|  Random Forest Regression   |  55.050  |  1,225,050.51  | 1106.820  |\n",
    "|  XGBoost Regression   |  50.8292  |  1,340,080.823  |  1157.6186  |"
   ]
  },
  {
   "cell_type": "markdown",
   "id": "8d00ffea-d136-4f61-bdcd-aa8be59e93d9",
   "metadata": {},
   "source": [
    "<b>Result:</b> we conclude that the `Random Forest Regression`  algorithm is more efficient and gives accurate and fast results."
   ]
  },
  {
   "cell_type": "markdown",
   "id": "6f70bdd1-81f9-4829-aa8c-13d8c26d74d7",
   "metadata": {
    "tags": []
   },
   "source": [
    "<h3>4. Project Plan</h3>"
   ]
  },
  {
   "cell_type": "markdown",
   "id": "cc1a1472-c2f8-4425-97cb-531650e82c1d",
   "metadata": {},
   "source": [
    "| Task | Assignment | Day |  Process  |\n",
    "|-------|-------|-------|-------|\n",
    "|   Choose Topic   |  All members  |  10-11/10  |  Done  |\n",
    "|   Determine the required variables   |  All members  |  12-13/10  |  Done  |\n",
    "|   Collect data   |  Duy, Truong  |  16-21/10  |  Done  |\n",
    "|   Filter the data   |  Truong, Phuong  |  22/10  |  Done  |\n",
    "|   Determine the algorithm to use   |  All members  |  23-24/10  |  Done  |\n",
    "|   Conduct assessment test   |  Duy, Phuong  |  25/10  |  Done  |\n",
    "|   Algorithm construction   |  Truong, Phuong  |  27/10-5/11  |  Done  |\n",
    "|   Code design   |  Duy, Truong  |  5-23/11  |  *In Queue  |\n",
    "|   Test and fix bug 1   |  All members  |  24-25/11  |  In Queue  |\n",
    "|   Report   |  Duy, Phuong  |  25-30/11  |  In Queue  |\n",
    "|   General test   |  All members  |  6-7/12  |  In Queue  |\n",
    "|   Test and fix bug 2 (if have)   |  Individual  |  8-9/12  |  In Queue  |"
   ]
  }
 ],
 "metadata": {
  "kernelspec": {
   "display_name": "Python 3 (ipykernel)",
   "language": "python",
   "name": "python3"
  },
  "language_info": {
   "codemirror_mode": {
    "name": "ipython",
    "version": 3
   },
   "file_extension": ".py",
   "mimetype": "text/x-python",
   "name": "python",
   "nbconvert_exporter": "python",
   "pygments_lexer": "ipython3",
   "version": "3.9.17"
  }
 },
 "nbformat": 4,
 "nbformat_minor": 5
}
