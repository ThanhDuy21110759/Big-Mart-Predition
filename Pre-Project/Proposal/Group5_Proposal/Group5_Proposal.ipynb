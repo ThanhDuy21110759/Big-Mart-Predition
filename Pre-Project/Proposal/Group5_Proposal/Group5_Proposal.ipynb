{
 "cells": [
  {
   "cell_type": "markdown",
   "id": "ad8cc769-a98d-4e21-b891-da23ff45b5ac",
   "metadata": {},
   "source": [
    "### I. Project Introduction"
   ]
  },
  {
   "cell_type": "markdown",
   "id": "26f4cc81-19b9-44ae-a8a1-f4d0f6a077d7",
   "metadata": {},
   "source": [
    "<i>The Mart Sales Prediction</i> project aims to develop a machine learning solution to forecast the sales of various products in BigMart stores. By leveraging historical sales data, the project will create a regression ML model to predict the sales of products for the following year in many different outlets. \n",
    "\n",
    "Successful completion of this project will enable the mart to understand the properties of products and stores that make data-driven decisions, optimize operations, and gain a competitive advantage in the retail industry."
   ]
  },
  {
   "cell_type": "markdown",
   "id": "ca14e7e6-4aaf-4f0b-a0c0-c7d6f20e3790",
   "metadata": {
    "tags": []
   },
   "source": [
    "### II. Reasons to pick project"
   ]
  },
  {
   "cell_type": "markdown",
   "id": "9915145c-d0dc-4255-baa3-a5b4f2f9b1e3",
   "metadata": {
    "tags": []
   },
   "source": [
    "- Developing a mart sales prediction help the mart to understand the properties of products and stores that play an important role in increasing their overall sales.\n",
    "- Sales predictions will significantly impact business outcomes like making informed decisions regarding inventory management, pricing strategies, and promotional activities in the future.\n",
    "- The Mart Sales Prediction project offers an opportunity to enhance your machine learning and data analysis skills."
   ]
  },
  {
   "cell_type": "markdown",
   "id": "bf4fc4d3-3eee-4cce-9a80-4c5953a3b150",
   "metadata": {},
   "source": [
    "### III. Data Analysis plan"
   ]
  },
  {
   "cell_type": "markdown",
   "id": "fed2301a-8eb2-4dbc-a09d-8ee6fdaa6492",
   "metadata": {},
   "source": [
    "<b>a) X, Y variables</b>\n",
    "\n",
    "<i>Variable Y:</i> The set of predicted results\n",
    "\n",
    "<i>Variable X:</i>  Set of properties supporting for predicting Y, includes: \n",
    "\n",
    "| Variables | Descripions |\n",
    "|-------|-------|\n",
    "|   Item_Identifier   |  Unique product ID  |\n",
    "|   Item_Weight   |   Weight of product   |\n",
    "|  Item_Fat_Content  |   Whether the product is low fat or not   |\n",
    "|   Item_Visibility   |   The % of total display area of all products in a store allocated to the particular product  |\n",
    "|  Item_Type  |   The category to which the product belongs   |\n",
    "|  Item_MRP  |   Maximum Retail Price (MRP) of the product   |\n",
    "|   Outlet_Identifier   |   Unique store ID   |\n",
    "|   Outlet_Establishment_Year   |   The year in which store was establiished   |\n",
    "|   Outlet_Size   |   The size of the store in terms of ground area covered   |\n",
    "|   Outlet_Location_Type   |   The type of city in which the store is located   |\n",
    "|   Outlet_Type   |   Whether the outlet is just a grocery store or some sort of supermarket   |\n",
    "\n",
    "<b>b) General Data Analysis</b>\n",
    "\n",
    "Visualizing the data to understand the relationships between different features and their relation with the target variable. \n",
    "\n",
    "- Bar plots or pie charts can be used for <i>Categorical Features</i>\n",
    "\n",
    "- histograms or box plots for <i>Numerical Features</i>\n",
    "\n",
    "<b>c) Approach to problem</b>\n",
    "\n",
    "<i>Evaluation Metrics Methods:</i> Using methods to evaluate the performance of the model \n",
    "- Mean Absolute Error (MAE)\n",
    "- Mean Squared Error (MSE) \n",
    "- Root Mean Squared Error (RMSE) \n",
    "\n",
    "\n",
    "Base on <i>Exploratory Data Analysis (EDA)</i>, some predictive models are built. Several machine learning algorithms like <i>Linear regression, Decision Tree and Random forest</i> can be used.\n"
   ]
  },
  {
   "cell_type": "markdown",
   "id": "88444351-a855-494a-8ec5-3c3b443c9c3f",
   "metadata": {},
   "source": [
    "### IV.Project plan"
   ]
  },
  {
   "cell_type": "markdown",
   "id": "66deff5d-ba0c-4d79-97cf-a05e55844111",
   "metadata": {},
   "source": [
    "| Task | Assignment | Day |\n",
    "|-------|-------|-------|\n",
    "|   Choose Topic   |  All members  |  10-11/10  |\n",
    "|   Determine the required variables   |  All members  |  12-13/10  |\n",
    "|   Collect data   |  Duy, Truong  |  16-21/10  |\n",
    "|   Filter the data   |  Truong, Phuong  |  22/10  |\n",
    "|   Determine the algorithm to use   |  All members  |  23-24/10  |\n",
    "|   Conduct assessment test   |  Duy, Phuong  |  25/10  |\n",
    "|   Algorithm construction   |  Truong, Phuong  |  27/10-5/11  |\n",
    "|   Code design   |  Duy, Truong  |  5-23/11  |\n",
    "|   Test and fix bug 1   |  All members  |  24-25/11  |\n",
    "|   Report   |  Duy, Phuong  |  25-30/11  |\n",
    "|   General test   |  All members  |  6-7/12  |\n",
    "|   Test and fix bug 2 (if have)   |  Individual  |  8-9/12  |"
   ]
  }
 ],
 "metadata": {
  "kernelspec": {
   "display_name": "Python 3 (ipykernel)",
   "language": "python",
   "name": "python3"
  },
  "language_info": {
   "codemirror_mode": {
    "name": "ipython",
    "version": 3
   },
   "file_extension": ".py",
   "mimetype": "text/x-python",
   "name": "python",
   "nbconvert_exporter": "python",
   "pygments_lexer": "ipython3",
   "version": "3.9.17"
  }
 },
 "nbformat": 4,
 "nbformat_minor": 5
}
